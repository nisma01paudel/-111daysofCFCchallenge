{
 "cells": [
  {
   "cell_type": "code",
   "execution_count": 1,
   "id": "91c10161-c78d-4b7b-8058-b5f6c4ee9acd",
   "metadata": {},
   "outputs": [
    {
     "name": "stdout",
     "output_type": "stream",
     "text": [
      "         Math  English  Science\n",
      "Alice      75       85       92\n",
      "Bob        88       90       81\n",
      "Charlie    93       89       84\n",
      "David      67       78       79\n"
     ]
    }
   ],
   "source": [
    "import pandas as pd\n",
    "\n",
    "# Sample data\n",
    "data = {\n",
    "    \"Math\": [75, 88, 93, 67],\n",
    "    \"English\": [85, 90, 89, 78],\n",
    "    \"Science\": [92, 81, 84, 79]\n",
    "}\n",
    "\n",
    "students = [\"Alice\", \"Bob\", \"Charlie\", \"David\"]\n",
    "df = pd.DataFrame(data, index=students)\n",
    "print(df)\n"
   ]
  },
  {
   "cell_type": "code",
   "execution_count": 3,
   "id": "d8e1aa48-87e1-400e-b3e5-a55bb2483f7c",
   "metadata": {},
   "outputs": [
    {
     "data": {
      "text/plain": [
       "Alice      84.000000\n",
       "Bob        86.333333\n",
       "Charlie    88.666667\n",
       "David      74.666667\n",
       "dtype: float64"
      ]
     },
     "execution_count": 3,
     "metadata": {},
     "output_type": "execute_result"
    }
   ],
   "source": [
    "# 1. Average score of each student\n",
    "df.mean(axis=1)"
   ]
  },
  {
   "cell_type": "code",
   "execution_count": 4,
   "id": "c723c55d-22d5-489b-bffe-b8607882a2eb",
   "metadata": {},
   "outputs": [
    {
     "data": {
      "text/plain": [
       "'English'"
      ]
     },
     "execution_count": 4,
     "metadata": {},
     "output_type": "execute_result"
    }
   ],
   "source": [
    "# 2. Subject with the highest average\n",
    "avg_per_subject = df.mean()\n",
    "top_subject = avg_per_subject.idxmax()\n",
    "top_subject"
   ]
  },
  {
   "cell_type": "code",
   "execution_count": 5,
   "id": "acaeaf2f-066a-4144-86ed-f7fbca09d274",
   "metadata": {},
   "outputs": [
    {
     "data": {
      "text/plain": [
       "('Charlie', 'Math')"
      ]
     },
     "execution_count": 5,
     "metadata": {},
     "output_type": "execute_result"
    }
   ],
   "source": [
    "# 3. Highest individual score and who got it\n",
    "max_score = df.to_numpy().max()\n",
    "student_subject = df.stack().idxmax()\n",
    "student_subject"
   ]
  },
  {
   "cell_type": "code",
   "execution_count": null,
   "id": "2f1762f4-583a-46dd-aa23-c8f62674768e",
   "metadata": {},
   "outputs": [],
   "source": []
  }
 ],
 "metadata": {
  "kernelspec": {
   "display_name": "Python 3 (ipykernel)",
   "language": "python",
   "name": "python3"
  },
  "language_info": {
   "codemirror_mode": {
    "name": "ipython",
    "version": 3
   },
   "file_extension": ".py",
   "mimetype": "text/x-python",
   "name": "python",
   "nbconvert_exporter": "python",
   "pygments_lexer": "ipython3",
   "version": "3.13.1"
  }
 },
 "nbformat": 4,
 "nbformat_minor": 5
}
