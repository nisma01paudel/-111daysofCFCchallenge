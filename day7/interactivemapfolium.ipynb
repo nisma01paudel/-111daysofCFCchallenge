{
 "cells": [
  {
   "cell_type": "code",
   "execution_count": 240,
   "id": "53c558d8",
   "metadata": {},
   "outputs": [],
   "source": [
    "import folium\n",
    "mymap = folium.Map(location=[37.773972, -122.431297], zoom_start=12)\n"
   ]
  },
  {
   "cell_type": "code",
   "execution_count": 241,
   "id": "77f770fe",
   "metadata": {},
   "outputs": [
    {
     "data": {
      "text/plain": [
       "<folium.map.Marker at 0x12aa492a8f0>"
      ]
     },
     "execution_count": 241,
     "metadata": {},
     "output_type": "execute_result"
    }
   ],
   "source": [
    "folium.Marker([37.773972, -122.431297], popup=\"San Francisco\").add_to(mymap)"
   ]
  },
  {
   "cell_type": "code",
   "execution_count": 242,
   "id": "3e5c797c",
   "metadata": {},
   "outputs": [
    {
     "data": {
      "text/html": [
       "<div style=\"width:100%;\"><div style=\"position:relative;width:100%;height:0;padding-bottom:60%;\"><span style=\"color:#565656\">Make this Notebook Trusted to load map: File -> Trust Notebook</span><iframe srcdoc=\"&lt;!DOCTYPE html&gt;\n",
       "&lt;html&gt;\n",
       "&lt;head&gt;\n",
       "    \n",
       "    &lt;meta http-equiv=&quot;content-type&quot; content=&quot;text/html; charset=UTF-8&quot; /&gt;\n",
       "    \n",
       "        &lt;script&gt;\n",
       "            L_NO_TOUCH = false;\n",
       "            L_DISABLE_3D = false;\n",
       "        &lt;/script&gt;\n",
       "    \n",
       "    &lt;style&gt;html, body {width: 100%;height: 100%;margin: 0;padding: 0;}&lt;/style&gt;\n",
       "    &lt;style&gt;#map {position:absolute;top:0;bottom:0;right:0;left:0;}&lt;/style&gt;\n",
       "    &lt;script src=&quot;https://cdn.jsdelivr.net/npm/leaflet@1.9.3/dist/leaflet.js&quot;&gt;&lt;/script&gt;\n",
       "    &lt;script src=&quot;https://code.jquery.com/jquery-3.7.1.min.js&quot;&gt;&lt;/script&gt;\n",
       "    &lt;script src=&quot;https://cdn.jsdelivr.net/npm/bootstrap@5.2.2/dist/js/bootstrap.bundle.min.js&quot;&gt;&lt;/script&gt;\n",
       "    &lt;script src=&quot;https://cdnjs.cloudflare.com/ajax/libs/Leaflet.awesome-markers/2.0.2/leaflet.awesome-markers.js&quot;&gt;&lt;/script&gt;\n",
       "    &lt;link rel=&quot;stylesheet&quot; href=&quot;https://cdn.jsdelivr.net/npm/leaflet@1.9.3/dist/leaflet.css&quot;/&gt;\n",
       "    &lt;link rel=&quot;stylesheet&quot; href=&quot;https://cdn.jsdelivr.net/npm/bootstrap@5.2.2/dist/css/bootstrap.min.css&quot;/&gt;\n",
       "    &lt;link rel=&quot;stylesheet&quot; href=&quot;https://netdna.bootstrapcdn.com/bootstrap/3.0.0/css/bootstrap-glyphicons.css&quot;/&gt;\n",
       "    &lt;link rel=&quot;stylesheet&quot; href=&quot;https://cdn.jsdelivr.net/npm/@fortawesome/fontawesome-free@6.2.0/css/all.min.css&quot;/&gt;\n",
       "    &lt;link rel=&quot;stylesheet&quot; href=&quot;https://cdnjs.cloudflare.com/ajax/libs/Leaflet.awesome-markers/2.0.2/leaflet.awesome-markers.css&quot;/&gt;\n",
       "    &lt;link rel=&quot;stylesheet&quot; href=&quot;https://cdn.jsdelivr.net/gh/python-visualization/folium/folium/templates/leaflet.awesome.rotate.min.css&quot;/&gt;\n",
       "    \n",
       "            &lt;meta name=&quot;viewport&quot; content=&quot;width=device-width,\n",
       "                initial-scale=1.0, maximum-scale=1.0, user-scalable=no&quot; /&gt;\n",
       "            &lt;style&gt;\n",
       "                #map_30a2e7a7ce7e055be85d41080a80c8bd {\n",
       "                    position: relative;\n",
       "                    width: 100.0%;\n",
       "                    height: 100.0%;\n",
       "                    left: 0.0%;\n",
       "                    top: 0.0%;\n",
       "                }\n",
       "                .leaflet-container { font-size: 1rem; }\n",
       "            &lt;/style&gt;\n",
       "        \n",
       "&lt;/head&gt;\n",
       "&lt;body&gt;\n",
       "    \n",
       "    \n",
       "            &lt;div class=&quot;folium-map&quot; id=&quot;map_30a2e7a7ce7e055be85d41080a80c8bd&quot; &gt;&lt;/div&gt;\n",
       "        \n",
       "&lt;/body&gt;\n",
       "&lt;script&gt;\n",
       "    \n",
       "    \n",
       "            var map_30a2e7a7ce7e055be85d41080a80c8bd = L.map(\n",
       "                &quot;map_30a2e7a7ce7e055be85d41080a80c8bd&quot;,\n",
       "                {\n",
       "                    center: [37.773972, -122.431297],\n",
       "                    crs: L.CRS.EPSG3857,\n",
       "                    ...{\n",
       "  &quot;zoom&quot;: 12,\n",
       "  &quot;zoomControl&quot;: true,\n",
       "  &quot;preferCanvas&quot;: false,\n",
       "}\n",
       "\n",
       "                }\n",
       "            );\n",
       "\n",
       "            \n",
       "\n",
       "        \n",
       "    \n",
       "            var tile_layer_1ec54c048b4d96b7e1e9167792e88d36 = L.tileLayer(\n",
       "                &quot;https://tile.openstreetmap.org/{z}/{x}/{y}.png&quot;,\n",
       "                {\n",
       "  &quot;minZoom&quot;: 0,\n",
       "  &quot;maxZoom&quot;: 19,\n",
       "  &quot;maxNativeZoom&quot;: 19,\n",
       "  &quot;noWrap&quot;: false,\n",
       "  &quot;attribution&quot;: &quot;\\u0026copy; \\u003ca href=\\&quot;https://www.openstreetmap.org/copyright\\&quot;\\u003eOpenStreetMap\\u003c/a\\u003e contributors&quot;,\n",
       "  &quot;subdomains&quot;: &quot;abc&quot;,\n",
       "  &quot;detectRetina&quot;: false,\n",
       "  &quot;tms&quot;: false,\n",
       "  &quot;opacity&quot;: 1,\n",
       "}\n",
       "\n",
       "            );\n",
       "        \n",
       "    \n",
       "            tile_layer_1ec54c048b4d96b7e1e9167792e88d36.addTo(map_30a2e7a7ce7e055be85d41080a80c8bd);\n",
       "        \n",
       "    \n",
       "            var marker_0da46b1918666a390d961fba77bb09c3 = L.marker(\n",
       "                [37.773972, -122.431297],\n",
       "                {\n",
       "}\n",
       "            ).addTo(map_30a2e7a7ce7e055be85d41080a80c8bd);\n",
       "        \n",
       "    \n",
       "        var popup_20a1ea4f4aec13478b7955fd00de7b44 = L.popup({\n",
       "  &quot;maxWidth&quot;: &quot;100%&quot;,\n",
       "});\n",
       "\n",
       "        \n",
       "            \n",
       "                var html_5316ca5cb3b8ad57af9e166cad492584 = $(`&lt;div id=&quot;html_5316ca5cb3b8ad57af9e166cad492584&quot; style=&quot;width: 100.0%; height: 100.0%;&quot;&gt;San Francisco&lt;/div&gt;`)[0];\n",
       "                popup_20a1ea4f4aec13478b7955fd00de7b44.setContent(html_5316ca5cb3b8ad57af9e166cad492584);\n",
       "            \n",
       "        \n",
       "\n",
       "        marker_0da46b1918666a390d961fba77bb09c3.bindPopup(popup_20a1ea4f4aec13478b7955fd00de7b44)\n",
       "        ;\n",
       "\n",
       "        \n",
       "    \n",
       "    \n",
       "            var marker_83ca34ced9b6a54f7d3505967f03cf5f = L.marker(\n",
       "                [37.784972, -122.401297],\n",
       "                {\n",
       "}\n",
       "            ).addTo(map_30a2e7a7ce7e055be85d41080a80c8bd);\n",
       "        \n",
       "    \n",
       "        var popup_e6987f7fd87d94118b077c1549b04eea = L.popup({\n",
       "  &quot;maxWidth&quot;: &quot;100%&quot;,\n",
       "});\n",
       "\n",
       "        \n",
       "            \n",
       "                var html_5922489810686d36fae3f6560a911555 = $(`&lt;div id=&quot;html_5922489810686d36fae3f6560a911555&quot; style=&quot;width: 100.0%; height: 100.0%;&quot;&gt;Another Location&lt;/div&gt;`)[0];\n",
       "                popup_e6987f7fd87d94118b077c1549b04eea.setContent(html_5922489810686d36fae3f6560a911555);\n",
       "            \n",
       "        \n",
       "\n",
       "        marker_83ca34ced9b6a54f7d3505967f03cf5f.bindPopup(popup_e6987f7fd87d94118b077c1549b04eea)\n",
       "        ;\n",
       "\n",
       "        \n",
       "    \n",
       "&lt;/script&gt;\n",
       "&lt;/html&gt;\" style=\"position:absolute;width:100%;height:100%;left:0;top:0;border:none !important;\" allowfullscreen webkitallowfullscreen mozallowfullscreen></iframe></div></div>"
      ],
      "text/plain": [
       "<folium.folium.Map at 0x12aa369a450>"
      ]
     },
     "execution_count": 242,
     "metadata": {},
     "output_type": "execute_result"
    }
   ],
   "source": [
    "folium.Marker([37.784972, -122.401297], popup=\"Another Location\").add_to(mymap)\n",
    "mymap"
   ]
  },
  {
   "cell_type": "markdown",
   "id": "ce1b2cb1",
   "metadata": {},
   "source": [
    "##### Plotting a Circle Marker with Radius"
   ]
  },
  {
   "cell_type": "code",
   "execution_count": 243,
   "id": "7c02bc95",
   "metadata": {},
   "outputs": [],
   "source": [
    "\n",
    "mymap1 = folium.Map(location=[37.773972, -122.431297], zoom_start=11, control_scale=True)"
   ]
  },
  {
   "cell_type": "code",
   "execution_count": 244,
   "id": "5d1e64dd",
   "metadata": {},
   "outputs": [
    {
     "data": {
      "text/plain": [
       "<folium.vector_layers.CircleMarker at 0x12aa3423df0>"
      ]
     },
     "execution_count": 244,
     "metadata": {},
     "output_type": "execute_result"
    }
   ],
   "source": [
    "folium.CircleMarker(location=[37.773972, -122.431297], radius=50,  # radius in pixels\n",
    "                    color=\"blue\", fill=True, fill_color=\"blue\", fill_opacity=0.5,\n",
    "                    popup=\"San Francisco Circle\").add_to(mymap1)"
   ]
  },
  {
   "cell_type": "code",
   "execution_count": 245,
   "id": "84be6584",
   "metadata": {},
   "outputs": [
    {
     "data": {
      "text/html": [
       "<div style=\"width:100%;\"><div style=\"position:relative;width:100%;height:0;padding-bottom:60%;\"><span style=\"color:#565656\">Make this Notebook Trusted to load map: File -> Trust Notebook</span><iframe srcdoc=\"&lt;!DOCTYPE html&gt;\n",
       "&lt;html&gt;\n",
       "&lt;head&gt;\n",
       "    \n",
       "    &lt;meta http-equiv=&quot;content-type&quot; content=&quot;text/html; charset=UTF-8&quot; /&gt;\n",
       "    \n",
       "        &lt;script&gt;\n",
       "            L_NO_TOUCH = false;\n",
       "            L_DISABLE_3D = false;\n",
       "        &lt;/script&gt;\n",
       "    \n",
       "    &lt;style&gt;html, body {width: 100%;height: 100%;margin: 0;padding: 0;}&lt;/style&gt;\n",
       "    &lt;style&gt;#map {position:absolute;top:0;bottom:0;right:0;left:0;}&lt;/style&gt;\n",
       "    &lt;script src=&quot;https://cdn.jsdelivr.net/npm/leaflet@1.9.3/dist/leaflet.js&quot;&gt;&lt;/script&gt;\n",
       "    &lt;script src=&quot;https://code.jquery.com/jquery-3.7.1.min.js&quot;&gt;&lt;/script&gt;\n",
       "    &lt;script src=&quot;https://cdn.jsdelivr.net/npm/bootstrap@5.2.2/dist/js/bootstrap.bundle.min.js&quot;&gt;&lt;/script&gt;\n",
       "    &lt;script src=&quot;https://cdnjs.cloudflare.com/ajax/libs/Leaflet.awesome-markers/2.0.2/leaflet.awesome-markers.js&quot;&gt;&lt;/script&gt;\n",
       "    &lt;link rel=&quot;stylesheet&quot; href=&quot;https://cdn.jsdelivr.net/npm/leaflet@1.9.3/dist/leaflet.css&quot;/&gt;\n",
       "    &lt;link rel=&quot;stylesheet&quot; href=&quot;https://cdn.jsdelivr.net/npm/bootstrap@5.2.2/dist/css/bootstrap.min.css&quot;/&gt;\n",
       "    &lt;link rel=&quot;stylesheet&quot; href=&quot;https://netdna.bootstrapcdn.com/bootstrap/3.0.0/css/bootstrap-glyphicons.css&quot;/&gt;\n",
       "    &lt;link rel=&quot;stylesheet&quot; href=&quot;https://cdn.jsdelivr.net/npm/@fortawesome/fontawesome-free@6.2.0/css/all.min.css&quot;/&gt;\n",
       "    &lt;link rel=&quot;stylesheet&quot; href=&quot;https://cdnjs.cloudflare.com/ajax/libs/Leaflet.awesome-markers/2.0.2/leaflet.awesome-markers.css&quot;/&gt;\n",
       "    &lt;link rel=&quot;stylesheet&quot; href=&quot;https://cdn.jsdelivr.net/gh/python-visualization/folium/folium/templates/leaflet.awesome.rotate.min.css&quot;/&gt;\n",
       "    \n",
       "            &lt;meta name=&quot;viewport&quot; content=&quot;width=device-width,\n",
       "                initial-scale=1.0, maximum-scale=1.0, user-scalable=no&quot; /&gt;\n",
       "            &lt;style&gt;\n",
       "                #map_b653966be2f93af60400b6c790f9dffb {\n",
       "                    position: relative;\n",
       "                    width: 100.0%;\n",
       "                    height: 100.0%;\n",
       "                    left: 0.0%;\n",
       "                    top: 0.0%;\n",
       "                }\n",
       "                .leaflet-container { font-size: 1rem; }\n",
       "            &lt;/style&gt;\n",
       "        \n",
       "&lt;/head&gt;\n",
       "&lt;body&gt;\n",
       "    \n",
       "    \n",
       "            &lt;div class=&quot;folium-map&quot; id=&quot;map_b653966be2f93af60400b6c790f9dffb&quot; &gt;&lt;/div&gt;\n",
       "        \n",
       "&lt;/body&gt;\n",
       "&lt;script&gt;\n",
       "    \n",
       "    \n",
       "            var map_b653966be2f93af60400b6c790f9dffb = L.map(\n",
       "                &quot;map_b653966be2f93af60400b6c790f9dffb&quot;,\n",
       "                {\n",
       "                    center: [37.773972, -122.431297],\n",
       "                    crs: L.CRS.EPSG3857,\n",
       "                    ...{\n",
       "  &quot;zoom&quot;: 11,\n",
       "  &quot;zoomControl&quot;: true,\n",
       "  &quot;preferCanvas&quot;: false,\n",
       "}\n",
       "\n",
       "                }\n",
       "            );\n",
       "            L.control.scale().addTo(map_b653966be2f93af60400b6c790f9dffb);\n",
       "\n",
       "            \n",
       "\n",
       "        \n",
       "    \n",
       "            var tile_layer_dbbdeedbb75a1f7eb2531866d5776df1 = L.tileLayer(\n",
       "                &quot;https://tile.openstreetmap.org/{z}/{x}/{y}.png&quot;,\n",
       "                {\n",
       "  &quot;minZoom&quot;: 0,\n",
       "  &quot;maxZoom&quot;: 19,\n",
       "  &quot;maxNativeZoom&quot;: 19,\n",
       "  &quot;noWrap&quot;: false,\n",
       "  &quot;attribution&quot;: &quot;\\u0026copy; \\u003ca href=\\&quot;https://www.openstreetmap.org/copyright\\&quot;\\u003eOpenStreetMap\\u003c/a\\u003e contributors&quot;,\n",
       "  &quot;subdomains&quot;: &quot;abc&quot;,\n",
       "  &quot;detectRetina&quot;: false,\n",
       "  &quot;tms&quot;: false,\n",
       "  &quot;opacity&quot;: 1,\n",
       "}\n",
       "\n",
       "            );\n",
       "        \n",
       "    \n",
       "            tile_layer_dbbdeedbb75a1f7eb2531866d5776df1.addTo(map_b653966be2f93af60400b6c790f9dffb);\n",
       "        \n",
       "    \n",
       "            var circle_marker_985acbb1a7e76bdd5fbdb13bd376cff5 = L.circleMarker(\n",
       "                [37.773972, -122.431297],\n",
       "                {&quot;bubblingMouseEvents&quot;: true, &quot;color&quot;: &quot;blue&quot;, &quot;dashArray&quot;: null, &quot;dashOffset&quot;: null, &quot;fill&quot;: true, &quot;fillColor&quot;: &quot;blue&quot;, &quot;fillOpacity&quot;: 0.5, &quot;fillRule&quot;: &quot;evenodd&quot;, &quot;lineCap&quot;: &quot;round&quot;, &quot;lineJoin&quot;: &quot;round&quot;, &quot;opacity&quot;: 1.0, &quot;radius&quot;: 50, &quot;stroke&quot;: true, &quot;weight&quot;: 3}\n",
       "            ).addTo(map_b653966be2f93af60400b6c790f9dffb);\n",
       "        \n",
       "    \n",
       "        var popup_c348516bb4899b745c357012e986cb18 = L.popup({\n",
       "  &quot;maxWidth&quot;: &quot;100%&quot;,\n",
       "});\n",
       "\n",
       "        \n",
       "            \n",
       "                var html_16a3148c0406c98ca13649b13c917271 = $(`&lt;div id=&quot;html_16a3148c0406c98ca13649b13c917271&quot; style=&quot;width: 100.0%; height: 100.0%;&quot;&gt;San Francisco Circle&lt;/div&gt;`)[0];\n",
       "                popup_c348516bb4899b745c357012e986cb18.setContent(html_16a3148c0406c98ca13649b13c917271);\n",
       "            \n",
       "        \n",
       "\n",
       "        circle_marker_985acbb1a7e76bdd5fbdb13bd376cff5.bindPopup(popup_c348516bb4899b745c357012e986cb18)\n",
       "        ;\n",
       "\n",
       "        \n",
       "    \n",
       "&lt;/script&gt;\n",
       "&lt;/html&gt;\" style=\"position:absolute;width:100%;height:100%;left:0;top:0;border:none !important;\" allowfullscreen webkitallowfullscreen mozallowfullscreen></iframe></div></div>"
      ],
      "text/plain": [
       "<folium.folium.Map at 0x12aa3723250>"
      ]
     },
     "execution_count": 245,
     "metadata": {},
     "output_type": "execute_result"
    }
   ],
   "source": [
    "# display the map \n",
    "mymap1"
   ]
  },
  {
   "cell_type": "markdown",
   "id": "cf3a8957",
   "metadata": {},
   "source": [
    "Plotting Polylines and Polygon"
   ]
  },
  {
   "cell_type": "code",
   "execution_count": 246,
   "id": "da3ba04c",
   "metadata": {},
   "outputs": [],
   "source": [
    "import folium\n",
    "\n",
    "# Create a map centered at a specific location\n",
    "mymapp = folium.Map(location=[37.773972, -122.431297], zoom_start=12)\n",
    "\n",
    "# Define coordinates for the polyline (e.g., path or line)\n",
    "coordinates = [\n",
    "    [37.773972, -122.431297],\n",
    "    [37.783972, -122.421297],\n",
    "    [37.793972, -122.411297]\n",
    "]\n"
   ]
  },
  {
   "cell_type": "code",
   "execution_count": 247,
   "id": "d9287ac7",
   "metadata": {},
   "outputs": [
    {
     "data": {
      "text/plain": [
       "<folium.vector_layers.PolyLine at 0x12aa4994050>"
      ]
     },
     "execution_count": 247,
     "metadata": {},
     "output_type": "execute_result"
    }
   ],
   "source": [
    "folium.PolyLine(\n",
    "    coordinates,\n",
    "    color=\"green\",\n",
    "    weight=5,\n",
    "    opacity=0.7,\n",
    ").add_to(mymapp)"
   ]
  },
  {
   "cell_type": "code",
   "execution_count": 248,
   "id": "3cb3f403",
   "metadata": {},
   "outputs": [
    {
     "data": {
      "text/html": [
       "<div style=\"width:100%;\"><div style=\"position:relative;width:100%;height:0;padding-bottom:60%;\"><span style=\"color:#565656\">Make this Notebook Trusted to load map: File -> Trust Notebook</span><iframe srcdoc=\"&lt;!DOCTYPE html&gt;\n",
       "&lt;html&gt;\n",
       "&lt;head&gt;\n",
       "    \n",
       "    &lt;meta http-equiv=&quot;content-type&quot; content=&quot;text/html; charset=UTF-8&quot; /&gt;\n",
       "    \n",
       "        &lt;script&gt;\n",
       "            L_NO_TOUCH = false;\n",
       "            L_DISABLE_3D = false;\n",
       "        &lt;/script&gt;\n",
       "    \n",
       "    &lt;style&gt;html, body {width: 100%;height: 100%;margin: 0;padding: 0;}&lt;/style&gt;\n",
       "    &lt;style&gt;#map {position:absolute;top:0;bottom:0;right:0;left:0;}&lt;/style&gt;\n",
       "    &lt;script src=&quot;https://cdn.jsdelivr.net/npm/leaflet@1.9.3/dist/leaflet.js&quot;&gt;&lt;/script&gt;\n",
       "    &lt;script src=&quot;https://code.jquery.com/jquery-3.7.1.min.js&quot;&gt;&lt;/script&gt;\n",
       "    &lt;script src=&quot;https://cdn.jsdelivr.net/npm/bootstrap@5.2.2/dist/js/bootstrap.bundle.min.js&quot;&gt;&lt;/script&gt;\n",
       "    &lt;script src=&quot;https://cdnjs.cloudflare.com/ajax/libs/Leaflet.awesome-markers/2.0.2/leaflet.awesome-markers.js&quot;&gt;&lt;/script&gt;\n",
       "    &lt;link rel=&quot;stylesheet&quot; href=&quot;https://cdn.jsdelivr.net/npm/leaflet@1.9.3/dist/leaflet.css&quot;/&gt;\n",
       "    &lt;link rel=&quot;stylesheet&quot; href=&quot;https://cdn.jsdelivr.net/npm/bootstrap@5.2.2/dist/css/bootstrap.min.css&quot;/&gt;\n",
       "    &lt;link rel=&quot;stylesheet&quot; href=&quot;https://netdna.bootstrapcdn.com/bootstrap/3.0.0/css/bootstrap-glyphicons.css&quot;/&gt;\n",
       "    &lt;link rel=&quot;stylesheet&quot; href=&quot;https://cdn.jsdelivr.net/npm/@fortawesome/fontawesome-free@6.2.0/css/all.min.css&quot;/&gt;\n",
       "    &lt;link rel=&quot;stylesheet&quot; href=&quot;https://cdnjs.cloudflare.com/ajax/libs/Leaflet.awesome-markers/2.0.2/leaflet.awesome-markers.css&quot;/&gt;\n",
       "    &lt;link rel=&quot;stylesheet&quot; href=&quot;https://cdn.jsdelivr.net/gh/python-visualization/folium/folium/templates/leaflet.awesome.rotate.min.css&quot;/&gt;\n",
       "    \n",
       "            &lt;meta name=&quot;viewport&quot; content=&quot;width=device-width,\n",
       "                initial-scale=1.0, maximum-scale=1.0, user-scalable=no&quot; /&gt;\n",
       "            &lt;style&gt;\n",
       "                #map_2e898de9e97043fc44f154acdac1c7ac {\n",
       "                    position: relative;\n",
       "                    width: 100.0%;\n",
       "                    height: 100.0%;\n",
       "                    left: 0.0%;\n",
       "                    top: 0.0%;\n",
       "                }\n",
       "                .leaflet-container { font-size: 1rem; }\n",
       "            &lt;/style&gt;\n",
       "        \n",
       "&lt;/head&gt;\n",
       "&lt;body&gt;\n",
       "    \n",
       "    \n",
       "            &lt;div class=&quot;folium-map&quot; id=&quot;map_2e898de9e97043fc44f154acdac1c7ac&quot; &gt;&lt;/div&gt;\n",
       "        \n",
       "&lt;/body&gt;\n",
       "&lt;script&gt;\n",
       "    \n",
       "    \n",
       "            var map_2e898de9e97043fc44f154acdac1c7ac = L.map(\n",
       "                &quot;map_2e898de9e97043fc44f154acdac1c7ac&quot;,\n",
       "                {\n",
       "                    center: [37.773972, -122.431297],\n",
       "                    crs: L.CRS.EPSG3857,\n",
       "                    ...{\n",
       "  &quot;zoom&quot;: 12,\n",
       "  &quot;zoomControl&quot;: true,\n",
       "  &quot;preferCanvas&quot;: false,\n",
       "}\n",
       "\n",
       "                }\n",
       "            );\n",
       "\n",
       "            \n",
       "\n",
       "        \n",
       "    \n",
       "            var tile_layer_a999122f6b1d4093299a93521f196ca0 = L.tileLayer(\n",
       "                &quot;https://tile.openstreetmap.org/{z}/{x}/{y}.png&quot;,\n",
       "                {\n",
       "  &quot;minZoom&quot;: 0,\n",
       "  &quot;maxZoom&quot;: 19,\n",
       "  &quot;maxNativeZoom&quot;: 19,\n",
       "  &quot;noWrap&quot;: false,\n",
       "  &quot;attribution&quot;: &quot;\\u0026copy; \\u003ca href=\\&quot;https://www.openstreetmap.org/copyright\\&quot;\\u003eOpenStreetMap\\u003c/a\\u003e contributors&quot;,\n",
       "  &quot;subdomains&quot;: &quot;abc&quot;,\n",
       "  &quot;detectRetina&quot;: false,\n",
       "  &quot;tms&quot;: false,\n",
       "  &quot;opacity&quot;: 1,\n",
       "}\n",
       "\n",
       "            );\n",
       "        \n",
       "    \n",
       "            tile_layer_a999122f6b1d4093299a93521f196ca0.addTo(map_2e898de9e97043fc44f154acdac1c7ac);\n",
       "        \n",
       "    \n",
       "            var poly_line_03cf5519fa509aed8d72008ec80b307a = L.polyline(\n",
       "                [[37.773972, -122.431297], [37.783972, -122.421297], [37.793972, -122.411297]],\n",
       "                {&quot;bubblingMouseEvents&quot;: true, &quot;color&quot;: &quot;green&quot;, &quot;dashArray&quot;: null, &quot;dashOffset&quot;: null, &quot;fill&quot;: false, &quot;fillColor&quot;: &quot;green&quot;, &quot;fillOpacity&quot;: 0.2, &quot;fillRule&quot;: &quot;evenodd&quot;, &quot;lineCap&quot;: &quot;round&quot;, &quot;lineJoin&quot;: &quot;round&quot;, &quot;noClip&quot;: false, &quot;opacity&quot;: 0.7, &quot;smoothFactor&quot;: 1.0, &quot;stroke&quot;: true, &quot;weight&quot;: 5}\n",
       "            ).addTo(map_2e898de9e97043fc44f154acdac1c7ac);\n",
       "        \n",
       "&lt;/script&gt;\n",
       "&lt;/html&gt;\" style=\"position:absolute;width:100%;height:100%;left:0;top:0;border:none !important;\" allowfullscreen webkitallowfullscreen mozallowfullscreen></iframe></div></div>"
      ],
      "text/plain": [
       "<folium.folium.Map at 0x12aa3723150>"
      ]
     },
     "execution_count": 248,
     "metadata": {},
     "output_type": "execute_result"
    }
   ],
   "source": [
    "mymapp"
   ]
  },
  {
   "cell_type": "code",
   "execution_count": 249,
   "id": "381b7fde",
   "metadata": {},
   "outputs": [],
   "source": [
    "polygon_coordinates = [\n",
    "    [37.773972, -122.432297],\n",
    "    [37.783972, -122.422297],\n",
    "    [37.793972, -122.412297],\n",
    "    [37.773973, -122.432298],\n",
    "    [37.773974, -122.431298],\n",
    "]"
   ]
  },
  {
   "cell_type": "code",
   "execution_count": 250,
   "id": "25e5ffb0",
   "metadata": {},
   "outputs": [
    {
     "data": {
      "text/plain": [
       "<folium.vector_layers.Polygon at 0x12aa4994160>"
      ]
     },
     "execution_count": 250,
     "metadata": {},
     "output_type": "execute_result"
    }
   ],
   "source": [
    "folium.Polygon(\n",
    "    coordinates,\n",
    "    color=\"red\",\n",
    "    fill=True,\n",
    "    fill_opacity=0.3,\n",
    ").add_to(mymapp)"
   ]
  },
  {
   "cell_type": "code",
   "execution_count": 251,
   "id": "035e25ca",
   "metadata": {},
   "outputs": [
    {
     "data": {
      "text/html": [
       "<div style=\"width:100%;\"><div style=\"position:relative;width:100%;height:0;padding-bottom:60%;\"><span style=\"color:#565656\">Make this Notebook Trusted to load map: File -> Trust Notebook</span><iframe srcdoc=\"&lt;!DOCTYPE html&gt;\n",
       "&lt;html&gt;\n",
       "&lt;head&gt;\n",
       "    \n",
       "    &lt;meta http-equiv=&quot;content-type&quot; content=&quot;text/html; charset=UTF-8&quot; /&gt;\n",
       "    \n",
       "        &lt;script&gt;\n",
       "            L_NO_TOUCH = false;\n",
       "            L_DISABLE_3D = false;\n",
       "        &lt;/script&gt;\n",
       "    \n",
       "    &lt;style&gt;html, body {width: 100%;height: 100%;margin: 0;padding: 0;}&lt;/style&gt;\n",
       "    &lt;style&gt;#map {position:absolute;top:0;bottom:0;right:0;left:0;}&lt;/style&gt;\n",
       "    &lt;script src=&quot;https://cdn.jsdelivr.net/npm/leaflet@1.9.3/dist/leaflet.js&quot;&gt;&lt;/script&gt;\n",
       "    &lt;script src=&quot;https://code.jquery.com/jquery-3.7.1.min.js&quot;&gt;&lt;/script&gt;\n",
       "    &lt;script src=&quot;https://cdn.jsdelivr.net/npm/bootstrap@5.2.2/dist/js/bootstrap.bundle.min.js&quot;&gt;&lt;/script&gt;\n",
       "    &lt;script src=&quot;https://cdnjs.cloudflare.com/ajax/libs/Leaflet.awesome-markers/2.0.2/leaflet.awesome-markers.js&quot;&gt;&lt;/script&gt;\n",
       "    &lt;link rel=&quot;stylesheet&quot; href=&quot;https://cdn.jsdelivr.net/npm/leaflet@1.9.3/dist/leaflet.css&quot;/&gt;\n",
       "    &lt;link rel=&quot;stylesheet&quot; href=&quot;https://cdn.jsdelivr.net/npm/bootstrap@5.2.2/dist/css/bootstrap.min.css&quot;/&gt;\n",
       "    &lt;link rel=&quot;stylesheet&quot; href=&quot;https://netdna.bootstrapcdn.com/bootstrap/3.0.0/css/bootstrap-glyphicons.css&quot;/&gt;\n",
       "    &lt;link rel=&quot;stylesheet&quot; href=&quot;https://cdn.jsdelivr.net/npm/@fortawesome/fontawesome-free@6.2.0/css/all.min.css&quot;/&gt;\n",
       "    &lt;link rel=&quot;stylesheet&quot; href=&quot;https://cdnjs.cloudflare.com/ajax/libs/Leaflet.awesome-markers/2.0.2/leaflet.awesome-markers.css&quot;/&gt;\n",
       "    &lt;link rel=&quot;stylesheet&quot; href=&quot;https://cdn.jsdelivr.net/gh/python-visualization/folium/folium/templates/leaflet.awesome.rotate.min.css&quot;/&gt;\n",
       "    \n",
       "            &lt;meta name=&quot;viewport&quot; content=&quot;width=device-width,\n",
       "                initial-scale=1.0, maximum-scale=1.0, user-scalable=no&quot; /&gt;\n",
       "            &lt;style&gt;\n",
       "                #map_2e898de9e97043fc44f154acdac1c7ac {\n",
       "                    position: relative;\n",
       "                    width: 100.0%;\n",
       "                    height: 100.0%;\n",
       "                    left: 0.0%;\n",
       "                    top: 0.0%;\n",
       "                }\n",
       "                .leaflet-container { font-size: 1rem; }\n",
       "            &lt;/style&gt;\n",
       "        \n",
       "&lt;/head&gt;\n",
       "&lt;body&gt;\n",
       "    \n",
       "    \n",
       "            &lt;div class=&quot;folium-map&quot; id=&quot;map_2e898de9e97043fc44f154acdac1c7ac&quot; &gt;&lt;/div&gt;\n",
       "        \n",
       "&lt;/body&gt;\n",
       "&lt;script&gt;\n",
       "    \n",
       "    \n",
       "            var map_2e898de9e97043fc44f154acdac1c7ac = L.map(\n",
       "                &quot;map_2e898de9e97043fc44f154acdac1c7ac&quot;,\n",
       "                {\n",
       "                    center: [37.773972, -122.431297],\n",
       "                    crs: L.CRS.EPSG3857,\n",
       "                    ...{\n",
       "  &quot;zoom&quot;: 12,\n",
       "  &quot;zoomControl&quot;: true,\n",
       "  &quot;preferCanvas&quot;: false,\n",
       "}\n",
       "\n",
       "                }\n",
       "            );\n",
       "\n",
       "            \n",
       "\n",
       "        \n",
       "    \n",
       "            var tile_layer_a999122f6b1d4093299a93521f196ca0 = L.tileLayer(\n",
       "                &quot;https://tile.openstreetmap.org/{z}/{x}/{y}.png&quot;,\n",
       "                {\n",
       "  &quot;minZoom&quot;: 0,\n",
       "  &quot;maxZoom&quot;: 19,\n",
       "  &quot;maxNativeZoom&quot;: 19,\n",
       "  &quot;noWrap&quot;: false,\n",
       "  &quot;attribution&quot;: &quot;\\u0026copy; \\u003ca href=\\&quot;https://www.openstreetmap.org/copyright\\&quot;\\u003eOpenStreetMap\\u003c/a\\u003e contributors&quot;,\n",
       "  &quot;subdomains&quot;: &quot;abc&quot;,\n",
       "  &quot;detectRetina&quot;: false,\n",
       "  &quot;tms&quot;: false,\n",
       "  &quot;opacity&quot;: 1,\n",
       "}\n",
       "\n",
       "            );\n",
       "        \n",
       "    \n",
       "            tile_layer_a999122f6b1d4093299a93521f196ca0.addTo(map_2e898de9e97043fc44f154acdac1c7ac);\n",
       "        \n",
       "    \n",
       "            var poly_line_03cf5519fa509aed8d72008ec80b307a = L.polyline(\n",
       "                [[37.773972, -122.431297], [37.783972, -122.421297], [37.793972, -122.411297]],\n",
       "                {&quot;bubblingMouseEvents&quot;: true, &quot;color&quot;: &quot;green&quot;, &quot;dashArray&quot;: null, &quot;dashOffset&quot;: null, &quot;fill&quot;: false, &quot;fillColor&quot;: &quot;green&quot;, &quot;fillOpacity&quot;: 0.2, &quot;fillRule&quot;: &quot;evenodd&quot;, &quot;lineCap&quot;: &quot;round&quot;, &quot;lineJoin&quot;: &quot;round&quot;, &quot;noClip&quot;: false, &quot;opacity&quot;: 0.7, &quot;smoothFactor&quot;: 1.0, &quot;stroke&quot;: true, &quot;weight&quot;: 5}\n",
       "            ).addTo(map_2e898de9e97043fc44f154acdac1c7ac);\n",
       "        \n",
       "    \n",
       "            tile_layer_a999122f6b1d4093299a93521f196ca0.addTo(map_2e898de9e97043fc44f154acdac1c7ac);\n",
       "        \n",
       "    \n",
       "            var polygon_254d18700f59ee950285987e661a8836 = L.polygon(\n",
       "                [[37.773972, -122.431297], [37.783972, -122.421297], [37.793972, -122.411297]],\n",
       "                {&quot;bubblingMouseEvents&quot;: true, &quot;color&quot;: &quot;red&quot;, &quot;dashArray&quot;: null, &quot;dashOffset&quot;: null, &quot;fill&quot;: true, &quot;fillColor&quot;: &quot;red&quot;, &quot;fillOpacity&quot;: 0.3, &quot;fillRule&quot;: &quot;evenodd&quot;, &quot;lineCap&quot;: &quot;round&quot;, &quot;lineJoin&quot;: &quot;round&quot;, &quot;noClip&quot;: false, &quot;opacity&quot;: 1.0, &quot;smoothFactor&quot;: 1.0, &quot;stroke&quot;: true, &quot;weight&quot;: 3}\n",
       "            ).addTo(map_2e898de9e97043fc44f154acdac1c7ac);\n",
       "        \n",
       "&lt;/script&gt;\n",
       "&lt;/html&gt;\" style=\"position:absolute;width:100%;height:100%;left:0;top:0;border:none !important;\" allowfullscreen webkitallowfullscreen mozallowfullscreen></iframe></div></div>"
      ],
      "text/plain": [
       "<folium.folium.Map at 0x12aa3723150>"
      ]
     },
     "execution_count": 251,
     "metadata": {},
     "output_type": "execute_result"
    }
   ],
   "source": [
    "mymapp"
   ]
  },
  {
   "cell_type": "markdown",
   "id": "89f3e000",
   "metadata": {},
   "source": [
    "### Heatmapwith folium"
   ]
  },
  {
   "cell_type": "code",
   "execution_count": 252,
   "id": "f996c9ae",
   "metadata": {},
   "outputs": [],
   "source": [
    "import folium\n",
    "from folium.plugins import HeatMap\n"
   ]
  },
  {
   "cell_type": "code",
   "execution_count": 253,
   "id": "115d1619",
   "metadata": {},
   "outputs": [],
   "source": [
    "# list of lat, long points\n",
    "heat_data = [\n",
    "    [37.773972, -122.431297],  # Point 1\n",
    "    [37.784972, -122.401297],  # Point 2\n",
    "    [37.793972, -122.411297],  # Point 3\n",
    "    [37.753972, -122.421297]   # Point 4\n",
    "]"
   ]
  },
  {
   "cell_type": "code",
   "execution_count": 254,
   "id": "e2d8bb5e",
   "metadata": {},
   "outputs": [],
   "source": [
    "mymap = folium.Map(location=[37.773972, -122.431297], zoom_start=11)"
   ]
  },
  {
   "cell_type": "code",
   "execution_count": 255,
   "id": "7b31d09e",
   "metadata": {},
   "outputs": [
    {
     "data": {
      "text/html": [
       "<div style=\"width:100%;\"><div style=\"position:relative;width:100%;height:0;padding-bottom:60%;\"><span style=\"color:#565656\">Make this Notebook Trusted to load map: File -> Trust Notebook</span><iframe srcdoc=\"&lt;!DOCTYPE html&gt;\n",
       "&lt;html&gt;\n",
       "&lt;head&gt;\n",
       "    \n",
       "    &lt;meta http-equiv=&quot;content-type&quot; content=&quot;text/html; charset=UTF-8&quot; /&gt;\n",
       "    \n",
       "        &lt;script&gt;\n",
       "            L_NO_TOUCH = false;\n",
       "            L_DISABLE_3D = false;\n",
       "        &lt;/script&gt;\n",
       "    \n",
       "    &lt;style&gt;html, body {width: 100%;height: 100%;margin: 0;padding: 0;}&lt;/style&gt;\n",
       "    &lt;style&gt;#map {position:absolute;top:0;bottom:0;right:0;left:0;}&lt;/style&gt;\n",
       "    &lt;script src=&quot;https://cdn.jsdelivr.net/npm/leaflet@1.9.3/dist/leaflet.js&quot;&gt;&lt;/script&gt;\n",
       "    &lt;script src=&quot;https://code.jquery.com/jquery-3.7.1.min.js&quot;&gt;&lt;/script&gt;\n",
       "    &lt;script src=&quot;https://cdn.jsdelivr.net/npm/bootstrap@5.2.2/dist/js/bootstrap.bundle.min.js&quot;&gt;&lt;/script&gt;\n",
       "    &lt;script src=&quot;https://cdnjs.cloudflare.com/ajax/libs/Leaflet.awesome-markers/2.0.2/leaflet.awesome-markers.js&quot;&gt;&lt;/script&gt;\n",
       "    &lt;link rel=&quot;stylesheet&quot; href=&quot;https://cdn.jsdelivr.net/npm/leaflet@1.9.3/dist/leaflet.css&quot;/&gt;\n",
       "    &lt;link rel=&quot;stylesheet&quot; href=&quot;https://cdn.jsdelivr.net/npm/bootstrap@5.2.2/dist/css/bootstrap.min.css&quot;/&gt;\n",
       "    &lt;link rel=&quot;stylesheet&quot; href=&quot;https://netdna.bootstrapcdn.com/bootstrap/3.0.0/css/bootstrap-glyphicons.css&quot;/&gt;\n",
       "    &lt;link rel=&quot;stylesheet&quot; href=&quot;https://cdn.jsdelivr.net/npm/@fortawesome/fontawesome-free@6.2.0/css/all.min.css&quot;/&gt;\n",
       "    &lt;link rel=&quot;stylesheet&quot; href=&quot;https://cdnjs.cloudflare.com/ajax/libs/Leaflet.awesome-markers/2.0.2/leaflet.awesome-markers.css&quot;/&gt;\n",
       "    &lt;link rel=&quot;stylesheet&quot; href=&quot;https://cdn.jsdelivr.net/gh/python-visualization/folium/folium/templates/leaflet.awesome.rotate.min.css&quot;/&gt;\n",
       "    \n",
       "            &lt;meta name=&quot;viewport&quot; content=&quot;width=device-width,\n",
       "                initial-scale=1.0, maximum-scale=1.0, user-scalable=no&quot; /&gt;\n",
       "            &lt;style&gt;\n",
       "                #map_2e898de9e97043fc44f154acdac1c7ac {\n",
       "                    position: relative;\n",
       "                    width: 100.0%;\n",
       "                    height: 100.0%;\n",
       "                    left: 0.0%;\n",
       "                    top: 0.0%;\n",
       "                }\n",
       "                .leaflet-container { font-size: 1rem; }\n",
       "            &lt;/style&gt;\n",
       "        \n",
       "    &lt;script src=&quot;https://cdn.jsdelivr.net/gh/python-visualization/folium@main/folium/templates/leaflet_heat.min.js&quot;&gt;&lt;/script&gt;\n",
       "&lt;/head&gt;\n",
       "&lt;body&gt;\n",
       "    \n",
       "    \n",
       "            &lt;div class=&quot;folium-map&quot; id=&quot;map_2e898de9e97043fc44f154acdac1c7ac&quot; &gt;&lt;/div&gt;\n",
       "        \n",
       "&lt;/body&gt;\n",
       "&lt;script&gt;\n",
       "    \n",
       "    \n",
       "            var map_2e898de9e97043fc44f154acdac1c7ac = L.map(\n",
       "                &quot;map_2e898de9e97043fc44f154acdac1c7ac&quot;,\n",
       "                {\n",
       "                    center: [37.773972, -122.431297],\n",
       "                    crs: L.CRS.EPSG3857,\n",
       "                    ...{\n",
       "  &quot;zoom&quot;: 12,\n",
       "  &quot;zoomControl&quot;: true,\n",
       "  &quot;preferCanvas&quot;: false,\n",
       "}\n",
       "\n",
       "                }\n",
       "            );\n",
       "\n",
       "            \n",
       "\n",
       "        \n",
       "    \n",
       "            var tile_layer_a999122f6b1d4093299a93521f196ca0 = L.tileLayer(\n",
       "                &quot;https://tile.openstreetmap.org/{z}/{x}/{y}.png&quot;,\n",
       "                {\n",
       "  &quot;minZoom&quot;: 0,\n",
       "  &quot;maxZoom&quot;: 19,\n",
       "  &quot;maxNativeZoom&quot;: 19,\n",
       "  &quot;noWrap&quot;: false,\n",
       "  &quot;attribution&quot;: &quot;\\u0026copy; \\u003ca href=\\&quot;https://www.openstreetmap.org/copyright\\&quot;\\u003eOpenStreetMap\\u003c/a\\u003e contributors&quot;,\n",
       "  &quot;subdomains&quot;: &quot;abc&quot;,\n",
       "  &quot;detectRetina&quot;: false,\n",
       "  &quot;tms&quot;: false,\n",
       "  &quot;opacity&quot;: 1,\n",
       "}\n",
       "\n",
       "            );\n",
       "        \n",
       "    \n",
       "            tile_layer_a999122f6b1d4093299a93521f196ca0.addTo(map_2e898de9e97043fc44f154acdac1c7ac);\n",
       "        \n",
       "    \n",
       "            var poly_line_03cf5519fa509aed8d72008ec80b307a = L.polyline(\n",
       "                [[37.773972, -122.431297], [37.783972, -122.421297], [37.793972, -122.411297]],\n",
       "                {&quot;bubblingMouseEvents&quot;: true, &quot;color&quot;: &quot;green&quot;, &quot;dashArray&quot;: null, &quot;dashOffset&quot;: null, &quot;fill&quot;: false, &quot;fillColor&quot;: &quot;green&quot;, &quot;fillOpacity&quot;: 0.2, &quot;fillRule&quot;: &quot;evenodd&quot;, &quot;lineCap&quot;: &quot;round&quot;, &quot;lineJoin&quot;: &quot;round&quot;, &quot;noClip&quot;: false, &quot;opacity&quot;: 0.7, &quot;smoothFactor&quot;: 1.0, &quot;stroke&quot;: true, &quot;weight&quot;: 5}\n",
       "            ).addTo(map_2e898de9e97043fc44f154acdac1c7ac);\n",
       "        \n",
       "    \n",
       "            tile_layer_a999122f6b1d4093299a93521f196ca0.addTo(map_2e898de9e97043fc44f154acdac1c7ac);\n",
       "        \n",
       "    \n",
       "            var polygon_254d18700f59ee950285987e661a8836 = L.polygon(\n",
       "                [[37.773972, -122.431297], [37.783972, -122.421297], [37.793972, -122.411297]],\n",
       "                {&quot;bubblingMouseEvents&quot;: true, &quot;color&quot;: &quot;red&quot;, &quot;dashArray&quot;: null, &quot;dashOffset&quot;: null, &quot;fill&quot;: true, &quot;fillColor&quot;: &quot;red&quot;, &quot;fillOpacity&quot;: 0.3, &quot;fillRule&quot;: &quot;evenodd&quot;, &quot;lineCap&quot;: &quot;round&quot;, &quot;lineJoin&quot;: &quot;round&quot;, &quot;noClip&quot;: false, &quot;opacity&quot;: 1.0, &quot;smoothFactor&quot;: 1.0, &quot;stroke&quot;: true, &quot;weight&quot;: 3}\n",
       "            ).addTo(map_2e898de9e97043fc44f154acdac1c7ac);\n",
       "        \n",
       "    \n",
       "            tile_layer_a999122f6b1d4093299a93521f196ca0.addTo(map_2e898de9e97043fc44f154acdac1c7ac);\n",
       "        \n",
       "    \n",
       "            var heat_map_d528937700a447d3a0a2e9e5b88cd825 = L.heatLayer(\n",
       "                [[37.773972, -122.431297], [37.784972, -122.401297], [37.793972, -122.411297], [37.753972, -122.421297]],\n",
       "                {\n",
       "  &quot;minOpacity&quot;: 0.5,\n",
       "  &quot;maxZoom&quot;: 18,\n",
       "  &quot;radius&quot;: 25,\n",
       "  &quot;blur&quot;: 15,\n",
       "}\n",
       "            );\n",
       "        \n",
       "    \n",
       "            heat_map_d528937700a447d3a0a2e9e5b88cd825.addTo(map_2e898de9e97043fc44f154acdac1c7ac);\n",
       "        \n",
       "&lt;/script&gt;\n",
       "&lt;/html&gt;\" style=\"position:absolute;width:100%;height:100%;left:0;top:0;border:none !important;\" allowfullscreen webkitallowfullscreen mozallowfullscreen></iframe></div></div>"
      ],
      "text/plain": [
       "<folium.folium.Map at 0x12aa3723150>"
      ]
     },
     "execution_count": 255,
     "metadata": {},
     "output_type": "execute_result"
    }
   ],
   "source": [
    "HeatMap(heat_data).add_to(mymapp)\n",
    "mymapp"
   ]
  },
  {
   "cell_type": "code",
   "execution_count": 256,
   "id": "9219643b",
   "metadata": {},
   "outputs": [],
   "source": [
    "mymap.save('interactive_map.html')"
   ]
  },
  {
   "cell_type": "code",
   "execution_count": 257,
   "id": "2818393e",
   "metadata": {},
   "outputs": [
    {
     "data": {
      "text/html": [
       "<div>\n",
       "<style scoped>\n",
       "    .dataframe tbody tr th:only-of-type {\n",
       "        vertical-align: middle;\n",
       "    }\n",
       "\n",
       "    .dataframe tbody tr th {\n",
       "        vertical-align: top;\n",
       "    }\n",
       "\n",
       "    .dataframe thead th {\n",
       "        text-align: right;\n",
       "    }\n",
       "</style>\n",
       "<table border=\"1\" class=\"dataframe\">\n",
       "  <thead>\n",
       "    <tr style=\"text-align: right;\">\n",
       "      <th></th>\n",
       "      <th>School ID</th>\n",
       "      <th>School Name</th>\n",
       "      <th>Street Address</th>\n",
       "      <th>City</th>\n",
       "      <th>State</th>\n",
       "      <th>ZIP Code</th>\n",
       "      <th>Phone Number</th>\n",
       "      <th>School State ID</th>\n",
       "      <th>School Level</th>\n",
       "      <th>Lowest Grade</th>\n",
       "      <th>Highest Grade</th>\n",
       "      <th>Latitude</th>\n",
       "      <th>Longitude</th>\n",
       "      <th>School Website</th>\n",
       "      <th>Cluster</th>\n",
       "      <th>Mapped Location</th>\n",
       "    </tr>\n",
       "  </thead>\n",
       "  <tbody>\n",
       "    <tr>\n",
       "      <th>0</th>\n",
       "      <td>496</td>\n",
       "      <td>A. Z. Kelley Elementary</td>\n",
       "      <td>5834 Pettus Road</td>\n",
       "      <td>Antioch</td>\n",
       "      <td>TN</td>\n",
       "      <td>37013</td>\n",
       "      <td>(615)941-7535</td>\n",
       "      <td>1</td>\n",
       "      <td>Elementary School</td>\n",
       "      <td>Grade P3</td>\n",
       "      <td>Grade 4</td>\n",
       "      <td>36.021817</td>\n",
       "      <td>-86.658848</td>\n",
       "      <td>http://schools.mnps.org/az-kelley-elementary-s...</td>\n",
       "      <td>Cane Ridge</td>\n",
       "      <td>(36.02181712, -86.65884778)</td>\n",
       "    </tr>\n",
       "    <tr>\n",
       "      <th>1</th>\n",
       "      <td>375</td>\n",
       "      <td>Alex Green Elementary</td>\n",
       "      <td>3921 Lloyd Road</td>\n",
       "      <td>Whites Creek</td>\n",
       "      <td>TN</td>\n",
       "      <td>37189</td>\n",
       "      <td>(615)876-5105</td>\n",
       "      <td>5</td>\n",
       "      <td>Elementary School</td>\n",
       "      <td>Grade P4</td>\n",
       "      <td>Grade 4</td>\n",
       "      <td>36.252961</td>\n",
       "      <td>-86.832229</td>\n",
       "      <td>http://schools.mnps.org/alex-green-elementary-...</td>\n",
       "      <td>Whites Creek</td>\n",
       "      <td>(36.2529607, -86.8322292)</td>\n",
       "    </tr>\n",
       "  </tbody>\n",
       "</table>\n",
       "</div>"
      ],
      "text/plain": [
       "   School ID              School Name    Street Address          City State  \\\n",
       "0        496  A. Z. Kelley Elementary  5834 Pettus Road       Antioch    TN   \n",
       "1        375    Alex Green Elementary   3921 Lloyd Road  Whites Creek    TN   \n",
       "\n",
       "   ZIP Code   Phone Number  School State ID       School Level Lowest Grade  \\\n",
       "0     37013  (615)941-7535                1  Elementary School     Grade P3   \n",
       "1     37189  (615)876-5105                5  Elementary School     Grade P4   \n",
       "\n",
       "  Highest Grade   Latitude  Longitude  \\\n",
       "0       Grade 4  36.021817 -86.658848   \n",
       "1       Grade 4  36.252961 -86.832229   \n",
       "\n",
       "                                      School Website       Cluster  \\\n",
       "0  http://schools.mnps.org/az-kelley-elementary-s...    Cane Ridge   \n",
       "1  http://schools.mnps.org/alex-green-elementary-...  Whites Creek   \n",
       "\n",
       "               Mapped Location  \n",
       "0  (36.02181712, -86.65884778)  \n",
       "1    (36.2529607, -86.8322292)  "
      ]
     },
     "execution_count": 257,
     "metadata": {},
     "output_type": "execute_result"
    }
   ],
   "source": [
    "import pandas as pd \n",
    "df = pd.read_csv('C:/Users/Learner/Desktop/-111daysofCFCchallenge/data/schools.csv')\n",
    "#- use forward shlash\n",
    "\n",
    "df.head(2)"
   ]
  },
  {
   "cell_type": "code",
   "execution_count": 258,
   "id": "6b87dcb5",
   "metadata": {},
   "outputs": [],
   "source": [
    "coordinates_list = df[['Latitude','Longitude']].values.tolist()"
   ]
  },
  {
   "cell_type": "code",
   "execution_count": 259,
   "id": "09c73dca",
   "metadata": {},
   "outputs": [],
   "source": [
    "mymaph1 = folium.Map(location=[36.252961, -86.832229], zoom_start=12) # replace the coordinates with the state or region coordinates"
   ]
  },
  {
   "cell_type": "code",
   "execution_count": 260,
   "id": "8c92a716",
   "metadata": {},
   "outputs": [
    {
     "data": {
      "text/html": [
       "<div style=\"width:100%;\"><div style=\"position:relative;width:100%;height:0;padding-bottom:60%;\"><span style=\"color:#565656\">Make this Notebook Trusted to load map: File -> Trust Notebook</span><iframe srcdoc=\"&lt;!DOCTYPE html&gt;\n",
       "&lt;html&gt;\n",
       "&lt;head&gt;\n",
       "    \n",
       "    &lt;meta http-equiv=&quot;content-type&quot; content=&quot;text/html; charset=UTF-8&quot; /&gt;\n",
       "    \n",
       "        &lt;script&gt;\n",
       "            L_NO_TOUCH = false;\n",
       "            L_DISABLE_3D = false;\n",
       "        &lt;/script&gt;\n",
       "    \n",
       "    &lt;style&gt;html, body {width: 100%;height: 100%;margin: 0;padding: 0;}&lt;/style&gt;\n",
       "    &lt;style&gt;#map {position:absolute;top:0;bottom:0;right:0;left:0;}&lt;/style&gt;\n",
       "    &lt;script src=&quot;https://cdn.jsdelivr.net/npm/leaflet@1.9.3/dist/leaflet.js&quot;&gt;&lt;/script&gt;\n",
       "    &lt;script src=&quot;https://code.jquery.com/jquery-3.7.1.min.js&quot;&gt;&lt;/script&gt;\n",
       "    &lt;script src=&quot;https://cdn.jsdelivr.net/npm/bootstrap@5.2.2/dist/js/bootstrap.bundle.min.js&quot;&gt;&lt;/script&gt;\n",
       "    &lt;script src=&quot;https://cdnjs.cloudflare.com/ajax/libs/Leaflet.awesome-markers/2.0.2/leaflet.awesome-markers.js&quot;&gt;&lt;/script&gt;\n",
       "    &lt;link rel=&quot;stylesheet&quot; href=&quot;https://cdn.jsdelivr.net/npm/leaflet@1.9.3/dist/leaflet.css&quot;/&gt;\n",
       "    &lt;link rel=&quot;stylesheet&quot; href=&quot;https://cdn.jsdelivr.net/npm/bootstrap@5.2.2/dist/css/bootstrap.min.css&quot;/&gt;\n",
       "    &lt;link rel=&quot;stylesheet&quot; href=&quot;https://netdna.bootstrapcdn.com/bootstrap/3.0.0/css/bootstrap-glyphicons.css&quot;/&gt;\n",
       "    &lt;link rel=&quot;stylesheet&quot; href=&quot;https://cdn.jsdelivr.net/npm/@fortawesome/fontawesome-free@6.2.0/css/all.min.css&quot;/&gt;\n",
       "    &lt;link rel=&quot;stylesheet&quot; href=&quot;https://cdnjs.cloudflare.com/ajax/libs/Leaflet.awesome-markers/2.0.2/leaflet.awesome-markers.css&quot;/&gt;\n",
       "    &lt;link rel=&quot;stylesheet&quot; href=&quot;https://cdn.jsdelivr.net/gh/python-visualization/folium/folium/templates/leaflet.awesome.rotate.min.css&quot;/&gt;\n",
       "    \n",
       "            &lt;meta name=&quot;viewport&quot; content=&quot;width=device-width,\n",
       "                initial-scale=1.0, maximum-scale=1.0, user-scalable=no&quot; /&gt;\n",
       "            &lt;style&gt;\n",
       "                #map_16585d0ad6b66993ec173ccacd02f832 {\n",
       "                    position: relative;\n",
       "                    width: 100.0%;\n",
       "                    height: 100.0%;\n",
       "                    left: 0.0%;\n",
       "                    top: 0.0%;\n",
       "                }\n",
       "                .leaflet-container { font-size: 1rem; }\n",
       "            &lt;/style&gt;\n",
       "        \n",
       "    &lt;script src=&quot;https://cdn.jsdelivr.net/gh/python-visualization/folium@main/folium/templates/leaflet_heat.min.js&quot;&gt;&lt;/script&gt;\n",
       "&lt;/head&gt;\n",
       "&lt;body&gt;\n",
       "    \n",
       "    \n",
       "            &lt;div class=&quot;folium-map&quot; id=&quot;map_16585d0ad6b66993ec173ccacd02f832&quot; &gt;&lt;/div&gt;\n",
       "        \n",
       "&lt;/body&gt;\n",
       "&lt;script&gt;\n",
       "    \n",
       "    \n",
       "            var map_16585d0ad6b66993ec173ccacd02f832 = L.map(\n",
       "                &quot;map_16585d0ad6b66993ec173ccacd02f832&quot;,\n",
       "                {\n",
       "                    center: [36.252961, -86.832229],\n",
       "                    crs: L.CRS.EPSG3857,\n",
       "                    ...{\n",
       "  &quot;zoom&quot;: 12,\n",
       "  &quot;zoomControl&quot;: true,\n",
       "  &quot;preferCanvas&quot;: false,\n",
       "}\n",
       "\n",
       "                }\n",
       "            );\n",
       "\n",
       "            \n",
       "\n",
       "        \n",
       "    \n",
       "            var tile_layer_131592ebb77944ac5eecf750811a2163 = L.tileLayer(\n",
       "                &quot;https://tile.openstreetmap.org/{z}/{x}/{y}.png&quot;,\n",
       "                {\n",
       "  &quot;minZoom&quot;: 0,\n",
       "  &quot;maxZoom&quot;: 19,\n",
       "  &quot;maxNativeZoom&quot;: 19,\n",
       "  &quot;noWrap&quot;: false,\n",
       "  &quot;attribution&quot;: &quot;\\u0026copy; \\u003ca href=\\&quot;https://www.openstreetmap.org/copyright\\&quot;\\u003eOpenStreetMap\\u003c/a\\u003e contributors&quot;,\n",
       "  &quot;subdomains&quot;: &quot;abc&quot;,\n",
       "  &quot;detectRetina&quot;: false,\n",
       "  &quot;tms&quot;: false,\n",
       "  &quot;opacity&quot;: 1,\n",
       "}\n",
       "\n",
       "            );\n",
       "        \n",
       "    \n",
       "            tile_layer_131592ebb77944ac5eecf750811a2163.addTo(map_16585d0ad6b66993ec173ccacd02f832);\n",
       "        \n",
       "    \n",
       "            var heat_map_28db8874d5781ae96d1fb78631e97334 = L.heatLayer(\n",
       "                [[37.773972, -122.431297], [37.784972, -122.401297], [37.793972, -122.411297], [37.753972, -122.421297]],\n",
       "                {\n",
       "  &quot;minOpacity&quot;: 0.5,\n",
       "  &quot;maxZoom&quot;: 18,\n",
       "  &quot;radius&quot;: 25,\n",
       "  &quot;blur&quot;: 15,\n",
       "}\n",
       "            );\n",
       "        \n",
       "    \n",
       "            heat_map_28db8874d5781ae96d1fb78631e97334.addTo(map_16585d0ad6b66993ec173ccacd02f832);\n",
       "        \n",
       "&lt;/script&gt;\n",
       "&lt;/html&gt;\" style=\"position:absolute;width:100%;height:100%;left:0;top:0;border:none !important;\" allowfullscreen webkitallowfullscreen mozallowfullscreen></iframe></div></div>"
      ],
      "text/plain": [
       "<folium.folium.Map at 0x12aa3723850>"
      ]
     },
     "execution_count": 260,
     "metadata": {},
     "output_type": "execute_result"
    }
   ],
   "source": [
    "# Add HeatMap\n",
    "HeatMap(heat_data).add_to(mymaph1)\n",
    "# Display the map\n",
    "mymaph1"
   ]
  },
  {
   "cell_type": "code",
   "execution_count": 261,
   "id": "c96017b8",
   "metadata": {},
   "outputs": [],
   "source": [
    "# Save map to HTML\n",
    "mymaph1.save('interactive_map_for_schools_in_usa.html')"
   ]
  },
  {
   "cell_type": "code",
   "execution_count": 262,
   "id": "76803bca",
   "metadata": {},
   "outputs": [],
   "source": [
    "import geopandas as gpd \n",
    "import matplotlib.pyplot as plt"
   ]
  },
  {
   "cell_type": "code",
   "execution_count": 263,
   "id": "ad28e301",
   "metadata": {},
   "outputs": [
    {
     "name": "stdout",
     "output_type": "stream",
     "text": [
      "                                            geometry\n",
      "0  POLYGON ((1766078.549 711757.27, 1766000.028 7...\n",
      "1  MULTIPOLYGON (((1800630.485 619627.187, 180060...\n"
     ]
    }
   ],
   "source": [
    "# Load a shapefile data\n",
    "path = r\"C:\\Users\\Learner\\Desktop\\-111daysofCFCchallenge\\data\\ServiceDistricts.shp\"\n",
    "# Reading a shapefile data\n",
    "vector_data = gpd.read_file(path)\n",
    "\n",
    "# View the first few rows of the data\n",
    "print(vector_data.head())"
   ]
  },
  {
   "cell_type": "code",
   "execution_count": 264,
   "id": "06a17009",
   "metadata": {},
   "outputs": [
    {
     "name": "stdout",
     "output_type": "stream",
     "text": [
      "0    POLYGON ((1766078.549 711757.27, 1766000.028 7...\n",
      "1    MULTIPOLYGON (((1800630.485 619627.187, 180060...\n",
      "Name: geometry, dtype: geometry\n"
     ]
    }
   ],
   "source": [
    "print(vector_data.geometry.head())"
   ]
  },
  {
   "cell_type": "code",
   "execution_count": 265,
   "id": "2beb479c",
   "metadata": {},
   "outputs": [
    {
     "name": "stdout",
     "output_type": "stream",
     "text": [
      "CRS: None\n"
     ]
    }
   ],
   "source": [
    "# Get the coordinate reference system (CRS)\n",
    "print(\"CRS:\", vector_data.crs)"
   ]
  },
  {
   "cell_type": "code",
   "execution_count": 266,
   "id": "a83286fe",
   "metadata": {},
   "outputs": [
    {
     "name": "stdout",
     "output_type": "stream",
     "text": [
      "Bounding Box: [1656681.00000001  595512.40000002 1816269.59999999  755221.60000001]\n"
     ]
    }
   ],
   "source": [
    "print(\"Bounding Box:\",vector_data.total_bounds)"
   ]
  },
  {
   "cell_type": "code",
   "execution_count": 267,
   "id": "63b9bf7f",
   "metadata": {},
   "outputs": [
    {
     "name": "stdout",
     "output_type": "stream",
     "text": [
      "Missing values: geometry    0\n",
      "dtype: int64\n"
     ]
    }
   ],
   "source": [
    "print(\"Missing values:\",vector_data.isnull().sum())"
   ]
  },
  {
   "cell_type": "code",
   "execution_count": 268,
   "id": "2b2cb019",
   "metadata": {},
   "outputs": [
    {
     "name": "stdout",
     "output_type": "stream",
     "text": [
      "                                                 geometry\n",
      "count                                                   2\n",
      "unique                                                  2\n",
      "top     POLYGON ((1766078.5487499982 711757.2704166621...\n",
      "freq                                                    1\n"
     ]
    }
   ],
   "source": [
    "print(vector_data.describe())"
   ]
  },
  {
   "cell_type": "code",
   "execution_count": 269,
   "id": "c4bb37c9",
   "metadata": {},
   "outputs": [
    {
     "data": {
      "text/plain": [
       "count                                                     1\n",
       "unique                                                    1\n",
       "top       MULTIPOLYGON (((1800630.4848952293 619627.1869...\n",
       "freq                                                      1\n",
       "Name: 1, dtype: object"
      ]
     },
     "execution_count": 269,
     "metadata": {},
     "output_type": "execute_result"
    }
   ],
   "source": [
    "vector_data.iloc[1].describe()"
   ]
  },
  {
   "cell_type": "code",
   "execution_count": 270,
   "id": "a6a27326",
   "metadata": {},
   "outputs": [
    {
     "data": {
      "image/png": "[encoded data removed]",
      "text/plain": [
       "<Figure size 640x480 with 1 Axes>"
      ]
     },
     "metadata": {},
     "output_type": "display_data"
    }
   ],
   "source": [
    "import matplotlib.pyplot as plt\n",
    "vector_data.plot()\n",
    "plt.title(\"Vecotr DATA Visualization\")\n",
    "plt.show()"
   ]
  },
  {
   "cell_type": "code",
   "execution_count": 271,
   "id": "1a26ade4",
   "metadata": {},
   "outputs": [
    {
     "data": {
      "text/plain": [
       "Polygon         1\n",
       "MultiPolygon    1\n",
       "Name: count, dtype: int64"
      ]
     },
     "execution_count": 271,
     "metadata": {},
     "output_type": "execute_result"
    }
   ],
   "source": [
    "vector_data.geom_type.value_counts()"
   ]
  },
  {
   "cell_type": "code",
   "execution_count": 272,
   "id": "2d145bf0",
   "metadata": {},
   "outputs": [
    {
     "name": "stdout",
     "output_type": "stream",
     "text": [
      "0    5.513380e+09\n",
      "1    9.128327e+09\n",
      "Name: area, dtype: float64\n"
     ]
    }
   ],
   "source": [
    "vector_data['area']=vector_data.geometry.area\n",
    "print(vector_data['area'].head())"
   ]
  },
  {
   "cell_type": "markdown",
   "id": "c1630859",
   "metadata": {},
   "source": [
    "Working with Raster Data using rasterio\n"
   ]
  },
  {
   "cell_type": "code",
   "execution_count": 273,
   "id": "b2130367",
   "metadata": {},
   "outputs": [],
   "source": [
    "import rasterio\n",
    "import numpy as np"
   ]
  },
  {
   "cell_type": "code",
   "execution_count": 274,
   "id": "c6e6a556",
   "metadata": {},
   "outputs": [],
   "source": [
    "# Open the raster file\n",
    "raster_path = r'C:\\Users\\Learner\\Desktop\\-111daysofCFCchallenge\\data\\sample.tif'\n",
    "# load raster data\n",
    "src = rasterio.open(raster_path)"
   ]
  },
  {
   "cell_type": "code",
   "execution_count": 275,
   "id": "729ba7d3",
   "metadata": {},
   "outputs": [
    {
     "name": "stdout",
     "output_type": "stream",
     "text": [
      "Raster Metadata:\n",
      "{'driver': 'GTiff', 'dtype': 'uint16', 'nodata': None, 'width': 1001, 'height': 1001, 'count': 3, 'crs': CRS.from_wkt('PROJCS[\"WGS 84 / UTM zone 31N\",GEOGCS[\"WGS 84\",DATUM[\"WGS_1984\",SPHEROID[\"WGS 84\",6378137,298.257223563,AUTHORITY[\"EPSG\",\"7030\"]],AUTHORITY[\"EPSG\",\"6326\"]],PRIMEM[\"Greenwich\",0,AUTHORITY[\"EPSG\",\"8901\"]],UNIT[\"degree\",0.0174532925199433,AUTHORITY[\"EPSG\",\"9122\"]],AUTHORITY[\"EPSG\",\"4326\"]],PROJECTION[\"Transverse_Mercator\"],PARAMETER[\"latitude_of_origin\",0],PARAMETER[\"central_meridian\",3],PARAMETER[\"scale_factor\",0.9996],PARAMETER[\"false_easting\",500000],PARAMETER[\"false_northing\",0],UNIT[\"metre\",1,AUTHORITY[\"EPSG\",\"9001\"]],AXIS[\"Easting\",EAST],AXIS[\"Northing\",NORTH],AUTHORITY[\"EPSG\",\"32631\"]]'), 'transform': Affine(10.0, 0.0, 590520.0,\n",
      "       0.0, -10.0, 5790630.0)}\n"
     ]
    }
   ],
   "source": [
    "print(\"Raster Metadata:\")\n",
    "print(src.meta)"
   ]
  },
  {
   "cell_type": "code",
   "execution_count": 276,
   "id": "957ffedb",
   "metadata": {},
   "outputs": [
    {
     "name": "stdout",
     "output_type": "stream",
     "text": [
      "No. of bands: 3\n"
     ]
    }
   ],
   "source": [
    "print(\"No. of bands:\",src.count)"
   ]
  },
  {
   "cell_type": "code",
   "execution_count": 277,
   "id": "92c0a1f0",
   "metadata": {},
   "outputs": [
    {
     "name": "stdout",
     "output_type": "stream",
     "text": [
      "CRS: EPSG:32631\n"
     ]
    }
   ],
   "source": [
    "print(\"CRS:\",src.crs)"
   ]
  },
  {
   "cell_type": "code",
   "execution_count": 278,
   "id": "23e89ec8",
   "metadata": {},
   "outputs": [
    {
     "name": "stdout",
     "output_type": "stream",
     "text": [
      "Dimensions(wdth,ht) 1001 1001\n"
     ]
    }
   ],
   "source": [
    "print(\"Dimensions(wdth,ht)\",src.width,src.height)"
   ]
  },
  {
   "cell_type": "code",
   "execution_count": 279,
   "id": "6c4ad388",
   "metadata": {},
   "outputs": [],
   "source": [
    "band1=src.read(1)"
   ]
  },
  {
   "cell_type": "code",
   "execution_count": 280,
   "id": "9bddb2fb",
   "metadata": {},
   "outputs": [
    {
     "name": "stdout",
     "output_type": "stream",
     "text": [
      "Datatype: uint16\n"
     ]
    }
   ],
   "source": [
    "print(\"Datatype:\",band1.dtype)"
   ]
  },
  {
   "cell_type": "code",
   "execution_count": 281,
   "id": "31735e62",
   "metadata": {},
   "outputs": [
    {
     "name": "stdout",
     "output_type": "stream",
     "text": [
      "no. of NaN values: 0\n"
     ]
    }
   ],
   "source": [
    "print(\"no. of NaN values:\", np.sum(np.isnan(band1)))"
   ]
  },
  {
   "cell_type": "code",
   "execution_count": 282,
   "id": "3b4061ef",
   "metadata": {},
   "outputs": [
    {
     "name": "stdout",
     "output_type": "stream",
     "text": [
      "Pixel Value Range: 0 10964\n"
     ]
    }
   ],
   "source": [
    "# Check the range of pixel values\n",
    "print(\"Pixel Value Range:\", band1.min(),band1.max())"
   ]
  },
  {
   "cell_type": "code",
   "execution_count": 283,
   "id": "792d25d6",
   "metadata": {},
   "outputs": [
    {
     "data": {
      "image/png": "[encoded data removed]",
      "text/plain": [
       "<Figure size 640x480 with 2 Axes>"
      ]
     },
     "metadata": {},
     "output_type": "display_data"
    }
   ],
   "source": [
    "import matplotlib.pyplot as plt \n",
    "plt.imshow(band1,cmap='terrain')\n",
    "plt.colorbar()\n",
    "plt.title(\"Raster Data Visualization\")\n",
    "plt.show()"
   ]
  },
  {
   "cell_type": "code",
   "execution_count": 284,
   "id": "ace45a67",
   "metadata": {},
   "outputs": [],
   "source": [
    "band1 = src.read(1)\n",
    "band1 = src.read(2)\n",
    "band1 = src.read(3)"
   ]
  },
  {
   "cell_type": "markdown",
   "id": "1410ec59",
   "metadata": {},
   "source": [
    "Working with Geometries in Vector Data"
   ]
  },
  {
   "cell_type": "code",
   "execution_count": 285,
   "id": "cb0063d3",
   "metadata": {},
   "outputs": [
    {
     "name": "stdout",
     "output_type": "stream",
     "text": [
      "Geometry Types: Polygon         1\n",
      "MultiPolygon    1\n",
      "Name: count, dtype: int64\n"
     ]
    }
   ],
   "source": [
    "# Inspect the geometry types (point, polygon, etc.)\n",
    "print(\"Geometry Types:\", vector_data.geometry.type.value_counts())"
   ]
  },
  {
   "cell_type": "code",
   "execution_count": 286,
   "id": "ce8fb1be",
   "metadata": {},
   "outputs": [
    {
     "name": "stdout",
     "output_type": "stream",
     "text": [
      "Area of few features: 0    5.513380e+09\n",
      "1    9.128327e+09\n",
      "Name: area, dtype: float64\n"
     ]
    }
   ],
   "source": [
    "vector_data['area'] = vector_data.geometry.area\n",
    "print(\"Area of few features:\",vector_data['area'].head())"
   ]
  },
  {
   "cell_type": "code",
   "execution_count": 287,
   "id": "a3816c8d",
   "metadata": {},
   "outputs": [
    {
     "name": "stdout",
     "output_type": "stream",
     "text": [
      "bounds of features:\n"
     ]
    },
    {
     "data": {
      "text/html": [
       "<div>\n",
       "<style scoped>\n",
       "    .dataframe tbody tr th:only-of-type {\n",
       "        vertical-align: middle;\n",
       "    }\n",
       "\n",
       "    .dataframe tbody tr th {\n",
       "        vertical-align: top;\n",
       "    }\n",
       "\n",
       "    .dataframe thead th {\n",
       "        text-align: right;\n",
       "    }\n",
       "</style>\n",
       "<table border=\"1\" class=\"dataframe\">\n",
       "  <thead>\n",
       "    <tr style=\"text-align: right;\">\n",
       "      <th></th>\n",
       "      <th>minx</th>\n",
       "      <th>miny</th>\n",
       "      <th>maxx</th>\n",
       "      <th>maxy</th>\n",
       "    </tr>\n",
       "  </thead>\n",
       "  <tbody>\n",
       "    <tr>\n",
       "      <th>0</th>\n",
       "      <td>1.693307e+06</td>\n",
       "      <td>609996.670208</td>\n",
       "      <td>1.802701e+06</td>\n",
       "      <td>712203.400833</td>\n",
       "    </tr>\n",
       "    <tr>\n",
       "      <th>1</th>\n",
       "      <td>1.656681e+06</td>\n",
       "      <td>595512.400000</td>\n",
       "      <td>1.816270e+06</td>\n",
       "      <td>755221.600000</td>\n",
       "    </tr>\n",
       "  </tbody>\n",
       "</table>\n",
       "</div>"
      ],
      "text/plain": [
       "           minx           miny          maxx           maxy\n",
       "0  1.693307e+06  609996.670208  1.802701e+06  712203.400833\n",
       "1  1.656681e+06  595512.400000  1.816270e+06  755221.600000"
      ]
     },
     "execution_count": 287,
     "metadata": {},
     "output_type": "execute_result"
    }
   ],
   "source": [
    "print(\"bounds of features:\")\n",
    "vector_data.geometry.bounds"
   ]
  },
  {
   "cell_type": "markdown",
   "id": "7c005c38",
   "metadata": {},
   "source": [
    "CRS (Coordinate Reference System) Inspection"
   ]
  },
  {
   "cell_type": "code",
   "execution_count": 288,
   "id": "269121a4",
   "metadata": {},
   "outputs": [
    {
     "name": "stdout",
     "output_type": "stream",
     "text": [
      "Vector CRS: None\n"
     ]
    }
   ],
   "source": [
    "print(\"Vector CRS:\", vector_data.crs)"
   ]
  },
  {
   "cell_type": "code",
   "execution_count": 289,
   "id": "026199ea",
   "metadata": {},
   "outputs": [
    {
     "name": "stdout",
     "output_type": "stream",
     "text": [
      "Raster CRS: EPSG:32631\n"
     ]
    }
   ],
   "source": [
    "print(\"Raster CRS:\", src.crs)"
   ]
  },
  {
   "cell_type": "markdown",
   "id": "654285e5",
   "metadata": {},
   "source": [
    "If the CRSs of two layers are different, you may need to reproject one layer to match the other before combining them."
   ]
  },
  {
   "cell_type": "code",
   "execution_count": 290,
   "id": "bbc0549d",
   "metadata": {},
   "outputs": [
    {
     "name": "stdout",
     "output_type": "stream",
     "text": [
      "   first_name       city    zip                           email state  \\\n",
      "0  Dr. Sharon  Nashville  37218  gentryfordistrict1@comcast.net    TN   \n",
      "1        Jill    Madison  37115          jill.speering@mnps.org    TN   \n",
      "2  Dr. Jo Ann  Nashville  37220          joann.brannon@mnps.org    TN   \n",
      "3        Anna  Hermitage  37076          anna.shepherd@mnps.org    TN   \n",
      "4         Amy  Nashville  37221             amy.frogge@mnps.org    TN   \n",
      "\n",
      "  last_name                address    position term_expir district  \\\n",
      "0    Gentry        6108 Beals Lane      Member       2016        1   \n",
      "1  Speering      1033 Falls Avenue  Vice-Chair       2016        3   \n",
      "2   Brannon  5444 San Marcos Drive      Member       2018        2   \n",
      "3  Shepherd     4545 Raccoon Trail       Chair       2018        4   \n",
      "4    Frogge  7237 Riverfront Drive      Member       2016        9   \n",
      "\n",
      "          phone                                           geometry  \n",
      "0  615-268-5269  MULTIPOLYGON (((-86.77136 36.38357, -86.77134 ...  \n",
      "1  615-562-5234  MULTIPOLYGON (((-86.75365 36.40428, -86.75353 ...  \n",
      "2  615-833-5976  MULTIPOLYGON (((-86.76696 36.08333, -86.7659 3...  \n",
      "3  615-210-3768  MULTIPOLYGON (((-86.58098 36.20935, -86.58099 ...  \n",
      "4  615-521-5650  MULTIPOLYGON (((-86.97287 36.20828, -86.97045 ...  \n",
      "Index(['first_name', 'city', 'zip', 'email', 'state', 'last_name', 'address',\n",
      "       'position', 'term_expir', 'district', 'phone', 'geometry'],\n",
      "      dtype='object')\n"
     ]
    }
   ],
   "source": [
    "import geopandas as gpd\n",
    "\n",
    "# Load school district GeoJSON\n",
    "vector_data = gpd.read_file('C:/Users/Learner/Desktop/-111daysofCFCchallenge/data/school-district.geojson')\n",
    "\n",
    "# Check first few rows\n",
    "print(vector_data.head())\n",
    "\n",
    "# Basic metadata\n",
    "print(vector_data.columns)\n"
   ]
  },
  {
   "cell_type": "code",
   "execution_count": 291,
   "id": "e128c7ff",
   "metadata": {},
   "outputs": [
    {
     "name": "stdout",
     "output_type": "stream",
     "text": [
      "Summary Statistics:\n",
      "        first_name       city    zip                           email state  \\\n",
      "count            9          9      9                               9     9   \n",
      "unique           9          4      9                               9     1   \n",
      "top     Dr. Sharon  Nashville  37218  gentryfordistrict1@comcast.net    TN   \n",
      "freq             1          6      1                               1     9   \n",
      "\n",
      "       last_name          address position term_expir district         phone  \\\n",
      "count          9                9        9          9        9             9   \n",
      "unique         9                9        3          2        9             9   \n",
      "top       Gentry  6108 Beals Lane   Member       2016        1  615-268-5269   \n",
      "freq           1                1        7          5        1             1   \n",
      "\n",
      "                                                 geometry  \n",
      "count                                                   9  \n",
      "unique                                                  9  \n",
      "top     MULTIPOLYGON (((-86.77136400034288 36.38356699...  \n",
      "freq                                                    1  \n"
     ]
    }
   ],
   "source": [
    "# If there's a population or area column\n",
    "print(\"Summary Statistics:\")\n",
    "print(vector_data.describe())\n",
    "\n",
    "# Example: Mean of a specific column\n",
    "if 'population' in vector_data.columns:\n",
    "    print(\"Mean Population:\", vector_data['population'].mean())\n"
   ]
  },
  {
   "cell_type": "code",
   "execution_count": 292,
   "id": "60dd5e0f",
   "metadata": {},
   "outputs": [
    {
     "name": "stdout",
     "output_type": "stream",
     "text": [
      "Feature Density: 38.089736255191035 per unit area\n"
     ]
    }
   ],
   "source": [
    "# Bounding box area\n",
    "bounds = vector_data.total_bounds  # [minx, miny, maxx, maxy]\n",
    "bbox_area = (bounds[2] - bounds[0]) * (bounds[3] - bounds[1])\n",
    "\n",
    "# Density = number of features / area\n",
    "point_density = len(vector_data) / bbox_area\n",
    "print(f\"Feature Density: {point_density} per unit area\")\n"
   ]
  },
  {
   "cell_type": "code",
   "execution_count": 293,
   "id": "e9471e96",
   "metadata": {},
   "outputs": [
    {
     "name": "stderr",
     "output_type": "stream",
     "text": [
      "C:\\Users\\Learner\\AppData\\Local\\Temp\\ipykernel_5964\\3123235301.py:5: UserWarning: Geometry is in a geographic CRS. Results from 'distance' are likely incorrect. Use 'GeoSeries.to_crs()' to re-project geometries to a projected CRS before this operation.\n",
      "\n",
      "  distances = vector_data.distance(first_geom)\n"
     ]
    },
    {
     "name": "stdout",
     "output_type": "stream",
     "text": [
      "Distances from the first district to all others:\n",
      "0    0.000000\n",
      "1    0.000000\n",
      "2    0.087241\n",
      "3    0.044195\n",
      "4    0.000000\n",
      "5    0.007875\n",
      "6    0.000000\n",
      "7    0.105757\n",
      "8    0.038833\n",
      "dtype: float64\n"
     ]
    }
   ],
   "source": [
    "# Distance from the first feature to all others\n",
    "from shapely.geometry import Point\n",
    "\n",
    "first_geom = vector_data.geometry.iloc[0]\n",
    "distances = vector_data.distance(first_geom)\n",
    "\n",
    "print(\"Distances from the first district to all others:\")\n",
    "print(distances)\n"
   ]
  },
  {
   "cell_type": "code",
   "execution_count": 294,
   "id": "f1dc9577",
   "metadata": {},
   "outputs": [
    {
     "name": "stdout",
     "output_type": "stream",
     "text": [
      "Raster Stats:\n",
      "Mean: 1009.3248849053044\n",
      "Min: 0\n",
      "Max: 10964\n",
      "Std Dev: 311.3070876735991\n"
     ]
    }
   ],
   "source": [
    "import rasterio\n",
    "import numpy as np\n",
    "\n",
    "with rasterio.open('C:/Users/Learner/Desktop/-111daysofCFCchallenge/data/sample.tif') as src:\n",
    "    band = src.read(1)\n",
    "    print(\"Raster Stats:\")\n",
    "    print(\"Mean:\", np.mean(band))\n",
    "    print(\"Min:\", np.min(band))\n",
    "    print(\"Max:\", np.max(band))\n",
    "    print(\"Std Dev:\", np.std(band))\n"
   ]
  },
  {
   "cell_type": "code",
   "execution_count": 296,
   "id": "3dcf1ea9",
   "metadata": {},
   "outputs": [
    {
     "name": "stdout",
     "output_type": "stream",
     "text": [
      "Raster Stats:\n",
      "Mean: 1009.3248849053044\n",
      "Min: 0\n",
      "Max: 10964\n",
      "Std Dev: 311.3070876735991\n"
     ]
    }
   ],
   "source": [
    "import rasterio\n",
    "import numpy as np\n",
    "\n",
    "with rasterio.open('C:/Users/Learner/Desktop/-111daysofCFCchallenge/data/sample.tif') as src:\n",
    "    band = src.read(1)\n",
    "    print(\"Raster Stats:\")\n",
    "    print(\"Mean:\", np.mean(band))\n",
    "    print(\"Min:\", np.min(band))\n",
    "    print(\"Max:\", np.max(band))\n",
    "    print(\"Std Dev:\", np.std(band))\n"
   ]
  }
 ],
 "metadata": {
  "kernelspec": {
   "display_name": "Python 3",
   "language": "python",
   "name": "python3"
  },
  "language_info": {
   "codemirror_mode": {
    "name": "ipython",
    "version": 3
   },
   "file_extension": ".py",
   "mimetype": "text/x-python",
   "name": "python",
   "nbconvert_exporter": "python",
   "pygments_lexer": "ipython3",
   "version": "3.13.1"
  }
 },
 "nbformat": 4,
 "nbformat_minor": 5
}
