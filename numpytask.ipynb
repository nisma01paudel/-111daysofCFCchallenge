{
 "cells": [
  {
   "cell_type": "markdown",
   "id": "664c76a7-447e-4cdb-a8d6-c641938eafb3",
   "metadata": {},
   "source": [
    "# You're given scores of 4 students across 3 subjects. Perform analysis using NumPy."
   ]
  },
  {
   "cell_type": "code",
   "execution_count": 1,
   "id": "9cac4349-9319-4a83-a5f2-c36b131b9966",
   "metadata": {},
   "outputs": [],
   "source": [
    "import numpy as np"
   ]
  },
  {
   "cell_type": "code",
   "execution_count": 2,
   "id": "4292436e-e8d3-4aed-8c9a-f54d6535b277",
   "metadata": {},
   "outputs": [],
   "source": [
    "# Rows = Students, Columns = Subjects\n",
    "scores = np.array([\n",
    "    [85, 90, 88],   # Student 1\n",
    "    [78, 81, 85],   # Student 2\n",
    "    [92, 88, 91],   # Student 3\n",
    "    [70, 75, 80]    # Student 4\n",
    "])\n"
   ]
  },
  {
   "cell_type": "markdown",
   "id": "12575887-f05d-48d5-883d-1ffc237388c4",
   "metadata": {},
   "source": [
    "# Find:\n"
   ]
  },
  {
   "cell_type": "code",
   "execution_count": 12,
   "id": "979a1d05-d383-47d1-86e6-29b07a3de761",
   "metadata": {},
   "outputs": [],
   "source": [
    "# The shape of the array\n",
    "arr = scores.shape"
   ]
  },
  {
   "cell_type": "code",
   "execution_count": 14,
   "id": "bad02cac-10f9-4577-8141-0d5aed649a16",
   "metadata": {},
   "outputs": [
    {
     "data": {
      "text/plain": [
       "(4, 3)"
      ]
     },
     "execution_count": 14,
     "metadata": {},
     "output_type": "execute_result"
    }
   ],
   "source": [
    "arr"
   ]
  },
  {
   "cell_type": "code",
   "execution_count": 20,
   "id": "db9a3af4-a617-490e-a7a5-25cccb1efd3d",
   "metadata": {},
   "outputs": [
    {
     "data": {
      "text/plain": [
       "array([87.66666667, 81.33333333, 90.33333333, 75.        ])"
      ]
     },
     "execution_count": 20,
     "metadata": {},
     "output_type": "execute_result"
    }
   ],
   "source": [
    "# Average score of each student\n",
    "np.mean(scores,axis=1)"
   ]
  },
  {
   "cell_type": "code",
   "execution_count": 22,
   "id": "ef018a4f-e4f4-4cd0-80cd-8823ffc0c75c",
   "metadata": {},
   "outputs": [
    {
     "data": {
      "text/plain": [
       "array([81.25, 83.5 , 86.  ])"
      ]
     },
     "execution_count": 22,
     "metadata": {},
     "output_type": "execute_result"
    }
   ],
   "source": [
    "#verage score in each subject\n",
    "np.mean(scores,axis=0)"
   ]
  },
  {
   "cell_type": "code",
   "execution_count": 27,
   "id": "14861745-f239-4186-85af-560df63f4ac7",
   "metadata": {},
   "outputs": [
    {
     "data": {
      "text/plain": [
       "np.int64(92)"
      ]
     },
     "execution_count": 27,
     "metadata": {},
     "output_type": "execute_result"
    }
   ],
   "source": [
    "# Highest score and its position\n",
    "max_score = np.max(scores)\n",
    "max_score"
   ]
  },
  {
   "cell_type": "code",
   "execution_count": 28,
   "id": "8b361f9d-d185-4867-999b-42013ffd3ebd",
   "metadata": {},
   "outputs": [
    {
     "data": {
      "text/plain": [
       "(np.int64(2), np.int64(0))"
      ]
     },
     "execution_count": 28,
     "metadata": {},
     "output_type": "execute_result"
    }
   ],
   "source": [
    "max_position = np.unravel_index(np.argmax(scores), scores.shape)\n",
    "max_position"
   ]
  },
  {
   "cell_type": "code",
   "execution_count": 29,
   "id": "6dcffeb6-7f61-45c7-9a97-2d04ae343a60",
   "metadata": {},
   "outputs": [
    {
     "data": {
      "text/plain": [
       "np.float64(6.575945221453381)"
      ]
     },
     "execution_count": 29,
     "metadata": {},
     "output_type": "execute_result"
    }
   ],
   "source": [
    "# Standard deviation of the scores\n",
    "np.std(scores)"
   ]
  },
  {
   "cell_type": "code",
   "execution_count": 31,
   "id": "aa369fca-3ff8-41be-9db1-6886e1254dc3",
   "metadata": {},
   "outputs": [
    {
     "data": {
      "text/plain": [
       "array([[85, 90, 88],\n",
       "       [78, 81, 85],\n",
       "       [92, 88, 91],\n",
       "       [70, 75, 80],\n",
       "       [94, 99, 88]])"
      ]
     },
     "execution_count": 31,
     "metadata": {},
     "output_type": "execute_result"
    }
   ],
   "source": [
    "# Step 3: Add new student\n",
    "new_student=[94,99,88]\n",
    "scores = np.vstack([scores,new_student])\n",
    "scores"
   ]
  },
  {
   "cell_type": "code",
   "execution_count": 40,
   "id": "c46035d0-6f99-4587-a68d-6adc891a4877",
   "metadata": {},
   "outputs": [],
   "source": [
    "# Step 4: Remove lowest scoring subject (column)\n",
    "lowest_subject_index = np.argmin(np.mean(scores, axis=0))\n"
   ]
  },
  {
   "cell_type": "code",
   "execution_count": 41,
   "id": "b05a29ec-81a3-4be5-97c9-c2046c99d874",
   "metadata": {},
   "outputs": [
    {
     "data": {
      "text/plain": [
       "array([[90, 88],\n",
       "       [81, 85],\n",
       "       [88, 91],\n",
       "       [75, 80],\n",
       "       [99, 88]])"
      ]
     },
     "execution_count": 41,
     "metadata": {},
     "output_type": "execute_result"
    }
   ],
   "source": [
    "np.delete(scores, lowest_subject_index, axis=1)"
   ]
  },
  {
   "cell_type": "code",
   "execution_count": null,
   "id": "ebc2addc-fcd9-4769-af64-d5812028ead9",
   "metadata": {},
   "outputs": [],
   "source": []
  }
 ],
 "metadata": {
  "kernelspec": {
   "display_name": "Python 3 (ipykernel)",
   "language": "python",
   "name": "python3"
  },
  "language_info": {
   "codemirror_mode": {
    "name": "ipython",
    "version": 3
   },
   "file_extension": ".py",
   "mimetype": "text/x-python",
   "name": "python",
   "nbconvert_exporter": "python",
   "pygments_lexer": "ipython3",
   "version": "3.13.1"
  }
 },
 "nbformat": 4,
 "nbformat_minor": 5
}
